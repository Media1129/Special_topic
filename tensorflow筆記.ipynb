{
 "cells": [
  {
   "cell_type": "markdown",
   "metadata": {},
   "source": [
    "# Tensorflow 筆記"
   ]
  },
  {
   "cell_type": "markdown",
   "metadata": {},
   "source": [
    "## import需要的模組"
   ]
  },
  {
   "cell_type": "code",
   "execution_count": 2,
   "metadata": {},
   "outputs": [],
   "source": [
    "import tensorflow as tf \n",
    "import numpy as np\n",
    "from time import time\n",
    "import matplotlib.pyplot as plt\n",
    "import tensorflow.examples.tutorials.mnist.input_data as input_data"
   ]
  },
  {
   "cell_type": "markdown",
   "metadata": {},
   "source": [
    "## 變數宣告"
   ]
  },
  {
   "cell_type": "markdown",
   "metadata": {},
   "source": [
    "* 常數  tf.constant(數字,name=\"\")\n",
    "* 此變數名稱會顯示在計算圖上"
   ]
  },
  {
   "cell_type": "code",
   "execution_count": 3,
   "metadata": {},
   "outputs": [
    {
     "data": {
      "text/plain": [
       "<tf.Tensor 'ts_c:0' shape=() dtype=int32>"
      ]
     },
     "execution_count": 3,
     "metadata": {},
     "output_type": "execute_result"
    }
   ],
   "source": [
    "ts_c = tf.constant(2,name=\"ts_c\")\n",
    "ts_c"
   ]
  },
  {
   "cell_type": "markdown",
   "metadata": {},
   "source": [
    "* 變數宣告 tf.Variable(數字,name=\"\")\n",
    "* 執行後只是顯示這是一個Tensorflow變數。這是因為Tensorflow變數必須要執行\"計算圖\"之後，才能看到結果"
   ]
  },
  {
   "cell_type": "code",
   "execution_count": 4,
   "metadata": {},
   "outputs": [
    {
     "data": {
      "text/plain": [
       "<tf.Variable 'ts_x:0' shape=() dtype=int32_ref>"
      ]
     },
     "execution_count": 4,
     "metadata": {},
     "output_type": "execute_result"
    }
   ],
   "source": [
    "ts_x = tf.Variable(ts_c+5,name=\"ts_x\")\n",
    "ts_x"
   ]
  },
  {
   "cell_type": "markdown",
   "metadata": {},
   "source": [
    "# 執行計算圖"
   ]
  },
  {
   "cell_type": "markdown",
   "metadata": {},
   "source": [
    "* 建立計算圖後，就可以執行計算圖\n",
    "* 執行前必須先建立Session\n",
    "* 在tensorflow中Session代表在用戶端和執行裝置之間建立連結\n",
    "* 有了這個連結，就可以將計算圖在裝置中執行\n",
    "* 後續任何與裝置間的溝通，都必須透過Session"
   ]
  },
  {
   "cell_type": "markdown",
   "metadata": {},
   "source": [
    "#### 建立Session"
   ]
  },
  {
   "cell_type": "code",
   "execution_count": 5,
   "metadata": {},
   "outputs": [
    {
     "data": {
      "text/plain": [
       "<tensorflow.python.client.session.Session at 0x1c334222e8>"
      ]
     },
     "execution_count": 5,
     "metadata": {},
     "output_type": "execute_result"
    }
   ],
   "source": [
    "sess=tf.Session()\n",
    "sess"
   ]
  },
  {
   "cell_type": "markdown",
   "metadata": {},
   "source": [
    "#### 執行Tensorflow起始化變數\n",
    "* 必須使用下列指令，起始化所有Tensorflow global變數"
   ]
  },
  {
   "cell_type": "code",
   "execution_count": 6,
   "metadata": {},
   "outputs": [],
   "source": [
    "init = tf.global_variables_initializer()\n",
    "sess.run(init)"
   ]
  },
  {
   "cell_type": "markdown",
   "metadata": {},
   "source": [
    "#### 關閉Tensorflow session\n",
    "* 不需要再使用session時，必須使用sess.close()關閉session"
   ]
  },
  {
   "cell_type": "code",
   "execution_count": 7,
   "metadata": {},
   "outputs": [],
   "source": [
    "sess.close()"
   ]
  },
  {
   "cell_type": "markdown",
   "metadata": {},
   "source": [
    "#### with語法開啟Session並且自動關閉\n",
    "* 在with區塊中可使用sess變數與裝置溝通，離開with區塊自動關閉session"
   ]
  },
  {
   "cell_type": "code",
   "execution_count": 8,
   "metadata": {},
   "outputs": [],
   "source": [
    "with tf.Session() as sess:\n",
    "    ..."
   ]
  },
  {
   "cell_type": "markdown",
   "metadata": {},
   "source": [
    "# Tensorflow placeholder\n",
    "* 希望在執行計算圖階段才決定數值，而不是像上面在建立計算圖階段就已經設定完成"
   ]
  },
  {
   "cell_type": "markdown",
   "metadata": {},
   "source": [
    "#### tf.placeholder(\"data_type\") &  feed_dict{} :傳入參數"
   ]
  },
  {
   "cell_type": "code",
   "execution_count": 9,
   "metadata": {},
   "outputs": [],
   "source": [
    "width = tf.placeholder(\"int32\")\n",
    "height = tf.placeholder(\"int32\")\n",
    "area = tf.multiply(width,height)\n",
    "with tf.Session() as sess:\n",
    "    init = tf.global_variables_initializer()\n",
    "    sess.run(init)\n",
    "    sess.run(area,feed_dict={width:6,height: 8})"
   ]
  },
  {
   "cell_type": "markdown",
   "metadata": {},
   "source": [
    "# 建立1維的張量(向量)\n",
    "* 只需要使用tf.Variable()傳入list即可\n",
    "* 利用shape查看資料形狀"
   ]
  },
  {
   "cell_type": "code",
   "execution_count": 10,
   "metadata": {},
   "outputs": [
    {
     "name": "stdout",
     "output_type": "stream",
     "text": [
      "[0.4 0.2 0.4]\n",
      "(3,)\n"
     ]
    }
   ],
   "source": [
    "ts_X=tf.Variable([0.4,0.2,0.4])\n",
    "with tf.Session() as sess:\n",
    "    init=tf.global_variables_initializer()\n",
    "    sess.run(init)\n",
    "    X=sess.run(ts_X)\n",
    "    print(X)\n",
    "    print(X.shape)"
   ]
  },
  {
   "cell_type": "markdown",
   "metadata": {},
   "source": [
    "# 建立2維的tensor\n",
    "* 使用tf.Variable()傳入2維的list"
   ]
  },
  {
   "cell_type": "code",
   "execution_count": 11,
   "metadata": {},
   "outputs": [
    {
     "name": "stdout",
     "output_type": "stream",
     "text": [
      "[[-0.5 -0.2]\n",
      " [-0.3  0.4]\n",
      " [-0.5  0.2]]\n",
      "(3, 2)\n"
     ]
    }
   ],
   "source": [
    "W=tf.Variable([[-0.5,-0.2],\n",
    "               [-0.3,0.4],\n",
    "               [-0.5,0.2]])\n",
    "with tf.Session() as sess:\n",
    "    init=tf.global_variables_initializer()\n",
    "    sess.run(init)\n",
    "    W_array=sess.run(W)\n",
    "    print(W_array)\n",
    "    print(W_array.shape)"
   ]
  },
  {
   "cell_type": "markdown",
   "metadata": {},
   "source": [
    "# 矩陣基本運算\n",
    "* 矩陣乘法: tf.matmul()\n",
    "* 矩陣加法: 使用+號即可"
   ]
  },
  {
   "cell_type": "code",
   "execution_count": 12,
   "metadata": {},
   "outputs": [
    {
     "name": "stdout",
     "output_type": "stream",
     "text": [
      "[[-1.1999999  0.6      ]]\n"
     ]
    }
   ],
   "source": [
    "X=tf.Variable([[1.,1.,1.]])\n",
    "W=tf.Variable([[-0.5,-0.2],\n",
    "               [-0.3,0.4],\n",
    "               [-0.5,0.2]])\n",
    "b=tf.Variable([[0.1,0.2]])\n",
    "XWb=tf.matmul(X,W)+b\n",
    "with tf.Session() as sess:\n",
    "    init = tf.global_variables_initializer()\n",
    "    sess.run(init)\n",
    "    print(sess.run(XWb))"
   ]
  },
  {
   "cell_type": "markdown",
   "metadata": {},
   "source": [
    "# 以矩陣運算模擬神經網路\n",
    "* y1=activation function(x1*W11+x2*w21+x3*w31+b1)\n",
    "* y2=activation function(x1*W12+x2*w22+x3*w32+b2)\n",
    "* -----------------------------------[w11 w12] \n",
    "* [y1 y2]=activation( [x1 x2 x3] * [w21 w22] + [b1 b2] )\n",
    "* -----------------------------------[w31 w32]"
   ]
  },
  {
   "cell_type": "markdown",
   "metadata": {},
   "source": [
    "# 矩陣運算式加入sigmoid&relu激活函數\n",
    "* tf.nn.sigmoid()\n",
    "* tf.nn.relu()"
   ]
  },
  {
   "cell_type": "code",
   "execution_count": 13,
   "metadata": {},
   "outputs": [
    {
     "name": "stdout",
     "output_type": "stream",
     "text": [
      "[[0.23147522 0.6456563 ]]\n"
     ]
    }
   ],
   "source": [
    "X=tf.Variable([[1.,1.,1.]])\n",
    "W=tf.Variable([[-0.5,-0.2],\n",
    "               [-0.3,0.4],\n",
    "               [-0.5,0.2]])\n",
    "b=tf.Variable([[0.1,0.2]])\n",
    "XWb=tf.matmul(X,W)+b\n",
    "y=tf.nn.sigmoid(XWb)\n",
    "#y=tf.nn.relu(XWb)\n",
    "with tf.Session() as sess:\n",
    "    init = tf.global_variables_initializer()\n",
    "    sess.run(init)\n",
    "    print(sess.run(y))"
   ]
  },
  {
   "cell_type": "markdown",
   "metadata": {},
   "source": [
    "# 亂數產生Weight與bias\n",
    "* 以常態分佈的亂數產生Weight與bias的初始值\n",
    "* tf.random_normal([row,col])"
   ]
  },
  {
   "cell_type": "code",
   "execution_count": 14,
   "metadata": {},
   "outputs": [
    {
     "name": "stdout",
     "output_type": "stream",
     "text": [
      "[[-0.0745519   0.49776375]]\n",
      "[[ 0.17381388 -0.04452677]\n",
      " [ 0.4749147   0.24185096]\n",
      " [ 0.39149633 -0.8116722 ]]\n",
      "[[0.24655512 0.20365435]]\n"
     ]
    }
   ],
   "source": [
    "W=tf.Variable( tf.random_normal([3,2]) )\n",
    "b=tf.Variable( tf.random_normal([1,2]) )\n",
    "X=tf.Variable([[0.4,0.2,0.4]]) #x要是matrix[[]]\n",
    "y=tf.nn.relu(tf.matmul(X,W)+b)\n",
    "with tf.Session() as sess:\n",
    "    init = tf.global_variables_initializer()\n",
    "    sess.run(init)\n",
    "    print(sess.run(b))\n",
    "    print(sess.run(W))\n",
    "    print(sess.run(y))"
   ]
  },
  {
   "cell_type": "markdown",
   "metadata": {},
   "source": [
    "#### 參數合在一起\n",
    "* ( _b, _W, _y)=sess.run( (b,W,y) )\n",
    "* 要兩個括號"
   ]
  },
  {
   "cell_type": "code",
   "execution_count": 15,
   "metadata": {},
   "outputs": [
    {
     "name": "stdout",
     "output_type": "stream",
     "text": [
      "[[-1.4756765 -1.0410008]]\n",
      "[[ 0.7992254  -0.7507751 ]\n",
      " [-0.617283   -0.68168026]\n",
      " [ 0.440204   -0.42031956]]\n",
      "[[0. 0.]]\n"
     ]
    }
   ],
   "source": [
    "W=tf.Variable( tf.random_normal([3,2]) )\n",
    "b=tf.Variable( tf.random_normal([1,2]) )\n",
    "X=tf.Variable([[0.4,0.2,0.4]]) #x要是matrix[[]]\n",
    "y=tf.nn.relu(tf.matmul(X,W)+b)\n",
    "with tf.Session() as sess:\n",
    "    init = tf.global_variables_initializer()\n",
    "    sess.run(init)\n",
    "    (_b,_W,_y)=sess.run((b,W,y)) \n",
    "    print(_b)\n",
    "    print(_W)\n",
    "    print(_y)"
   ]
  },
  {
   "cell_type": "markdown",
   "metadata": {},
   "source": [
    "# 以placeholder傳入x值\n",
    "* x=tf.placeholder( \"data_type\",[None,col] )\n",
    "* [None,3]，第一個維度設定為None，因為傳入的X筆數不限數量，第二個維度是每一筆的數字個數"
   ]
  },
  {
   "cell_type": "code",
   "execution_count": 16,
   "metadata": {},
   "outputs": [
    {
     "name": "stdout",
     "output_type": "stream",
     "text": [
      "[[ 0.3719206  -0.31936184]]\n",
      "[[ 0.04643898  0.2564865 ]\n",
      " [-0.30867648 -2.2626848 ]\n",
      " [ 0.6012653  -1.4424192 ]]\n",
      "[[0.56926703 0.        ]]\n"
     ]
    }
   ],
   "source": [
    "W=tf.Variable( tf.random_normal([3,2]) )\n",
    "b=tf.Variable( tf.random_normal([1,2]) )\n",
    "X=tf.placeholder(\"float\",[None,3])\n",
    "y=tf.nn.relu(tf.matmul(X,W)+b)\n",
    "with tf.Session() as sess:\n",
    "    init = tf.global_variables_initializer()\n",
    "    sess.run(init)\n",
    "    X_array = np.array([[0.4,0.2,0.4]])\n",
    "    (_b,_W,_y)=sess.run((b,W,y),feed_dict={X:X_array}) \n",
    "    print(_b)\n",
    "    print(_W)\n",
    "    print(_y)"
   ]
  },
  {
   "cell_type": "markdown",
   "metadata": {},
   "source": [
    "# 建立layer函數"
   ]
  },
  {
   "cell_type": "code",
   "execution_count": 17,
   "metadata": {},
   "outputs": [],
   "source": [
    "def layer(output_dim,input_dim,inputs,activation=None):\n",
    "    W=tf.Variable(tf.random_normal([input_dim,output_dim]))\n",
    "    b=tf.Variable(tf.random_normal([1,output_dim]))\n",
    "    XWb=tf.matmul(inputs,W)+b\n",
    "    if activation is None:\n",
    "        outputs = XWb\n",
    "    else:\n",
    "        outputs = activation(XWb)\n",
    "    return outputs"
   ]
  },
  {
   "cell_type": "markdown",
   "metadata": {},
   "source": [
    "# 使用layer函數建立3層類神經網路"
   ]
  },
  {
   "cell_type": "code",
   "execution_count": 18,
   "metadata": {},
   "outputs": [],
   "source": [
    "X = tf.placeholder(\"float\",[None,4])\n",
    "h = layer(output_dim=3,input_dim=4,inputs=X,activation=tf.nn.relu)\n",
    "y = layer(output_dim=2,input_dim=3,inputs=h)\n",
    "with tf.Session() as sess:\n",
    "    init = tf.global_variables_initializer()\n",
    "    sess.run(init)\n",
    "    X_array = np.array([[0.4,0.2,0.4,0.5]])\n",
    "    (layer_X,layer_h,layer_y) = sess.run((X,h,y),feed_dict={X:X_array})\n"
   ]
  },
  {
   "cell_type": "markdown",
   "metadata": {},
   "source": [
    "# 建立模型(multilayer perceptron)"
   ]
  },
  {
   "cell_type": "markdown",
   "metadata": {},
   "source": [
    "#### x:輸入層  & h1:隱藏層  & y_predict:輸出層"
   ]
  },
  {
   "cell_type": "code",
   "execution_count": 19,
   "metadata": {},
   "outputs": [],
   "source": [
    "x=tf.placeholder(\"float\",[None,784])\n",
    "h1=layer(output_dim=256,input_dim=784,inputs=x,activation=tf.nn.relu)\n",
    "y_predict=layer(output_dim=10,input_dim=256,inputs=h1,activation=None)"
   ]
  },
  {
   "cell_type": "markdown",
   "metadata": {},
   "source": [
    "#### 建立訓練資料label真實值的placeholder\n",
    "* 第一維度：設定為None，因為後續訓練時會傳送很多數字影像，筆數不固定\n",
    "* 第二維度：設定為10，因為輸入的數字真實值已經使用Onehot encoding轉換"
   ]
  },
  {
   "cell_type": "code",
   "execution_count": 20,
   "metadata": {},
   "outputs": [],
   "source": [
    "y_label=tf.placeholder(\"float\",[None,10])"
   ]
  },
  {
   "cell_type": "markdown",
   "metadata": {},
   "source": [
    "#### 定義loss function \n",
    "* 深度學習通常使用cross_entropy\n",
    "* tf.nn.softmax_cross_entropy_with_logits(logits,labels)\n",
    "* logits:神經網路最後一層的輸出\n",
    "* labels:實際的標籤\n",
    "* tf.reduce_mean():將下列cross_entropy計算結果平均"
   ]
  },
  {
   "cell_type": "code",
   "execution_count": 21,
   "metadata": {},
   "outputs": [
    {
     "name": "stdout",
     "output_type": "stream",
     "text": [
      "WARNING:tensorflow:From <ipython-input-21-a8e77157967f>:2: softmax_cross_entropy_with_logits (from tensorflow.python.ops.nn_ops) is deprecated and will be removed in a future version.\n",
      "Instructions for updating:\n",
      "\n",
      "Future major versions of TensorFlow will allow gradients to flow\n",
      "into the labels input on backprop by default.\n",
      "\n",
      "See @{tf.nn.softmax_cross_entropy_with_logits_v2}.\n",
      "\n"
     ]
    }
   ],
   "source": [
    "loss_function=tf.reduce_mean(tf.nn.softmax_cross_entropy_with_logits\n",
    "                             (logits=y_predict,labels=y_label))"
   ]
  },
  {
   "cell_type": "markdown",
   "metadata": {},
   "source": [
    "#### 定義optimizer最優化方法\n",
    "* optimizer呼叫tf.train模組定義\n",
    "* 使用AdamOptimizer\n",
    "* Optimizer使用loss_function計算loss(誤差)，並且依照loss(誤差)更新模型權重(weight&bias)使loss最小化"
   ]
  },
  {
   "cell_type": "code",
   "execution_count": 22,
   "metadata": {},
   "outputs": [],
   "source": [
    "optimizer=tf.train.AdamOptimizer(learning_rate=0.001).minimize(loss_function)"
   ]
  },
  {
   "cell_type": "markdown",
   "metadata": {},
   "source": [
    "# 定義評估模型的準確率方式"
   ]
  },
  {
   "cell_type": "markdown",
   "metadata": {},
   "source": [
    "#### 計算每一筆資料是否預測正確\n",
    "* tf.equal(a,b)：計算a,b是否相等\n",
    "* tf.argmax()：將Onehot encoding轉成數字0~9"
   ]
  },
  {
   "cell_type": "code",
   "execution_count": 23,
   "metadata": {},
   "outputs": [],
   "source": [
    "correct_prediction=tf.equal(tf.argmax(y_label,1),\n",
    "                            tf.argmax(y_predict,1))"
   ]
  },
  {
   "cell_type": "markdown",
   "metadata": {},
   "source": [
    "#### 將計算預測正確結果平均\n",
    "* 將前一步驟計算結果correct_prediction進行平均運算\n",
    "* 先將correct_prediction利用tf.cast()轉成float\n",
    "* tf.reduce_mean()：計算平均"
   ]
  },
  {
   "cell_type": "code",
   "execution_count": 24,
   "metadata": {},
   "outputs": [],
   "source": [
    "accuracy=tf.reduce_mean(tf.cast(correct_prediction,\"float\"))"
   ]
  },
  {
   "cell_type": "markdown",
   "metadata": {},
   "source": [
    "# 進行訓練"
   ]
  },
  {
   "cell_type": "markdown",
   "metadata": {},
   "source": [
    "#### 資料共55000筆，分為每一批次100筆，要將所有資料訓練完畢，須執行550批次，當所有資料訓練完畢，稱為一個epoch(訓練週期)"
   ]
  },
  {
   "cell_type": "markdown",
   "metadata": {},
   "source": [
    "#### 定義訓練參數\n",
    "* trainEpochs:設定訓練週期\n",
    "* batchSize:每一batch多少筆資料\n",
    "* totalBatchs：計算每一epoch要做幾次batch\n",
    "* startTime:記錄起始時間\n",
    "* loss_list[]&accuracy_list:記錄每一epoch的loss和準確率"
   ]
  },
  {
   "cell_type": "code",
   "execution_count": 33,
   "metadata": {},
   "outputs": [
    {
     "name": "stdout",
     "output_type": "stream",
     "text": [
      "Extracting MNIST_data/train-images-idx3-ubyte.gz\n",
      "Extracting MNIST_data/train-labels-idx1-ubyte.gz\n",
      "Extracting MNIST_data/t10k-images-idx3-ubyte.gz\n",
      "Extracting MNIST_data/t10k-labels-idx1-ubyte.gz\n"
     ]
    }
   ],
   "source": [
    "mnist = input_data.read_data_sets(\"MNIST_data/\",one_hot=True)\n",
    "trainEpochs=15\n",
    "batchSize=100\n",
    "totalBatchs=int(mnist.train.num_examples/batchSize)\n",
    "loss_list=[]\n",
    "epoch_list=[]\n",
    "accuracy_list=[]\n",
    "startTime=time()\n",
    "sess=tf.Session()\n",
    "sess.run(tf.global_variables_initializer())"
   ]
  },
  {
   "cell_type": "markdown",
   "metadata": {},
   "source": [
    "#### 進行訓練"
   ]
  },
  {
   "cell_type": "code",
   "execution_count": 26,
   "metadata": {},
   "outputs": [
    {
     "name": "stdout",
     "output_type": "stream",
     "text": [
      "Train Epoch: 01 Loss= 6.133258820 Accuracy= 0.8484\n",
      "Train Epoch: 02 Loss= 4.046940804 Accuracy= 0.8886\n",
      "Train Epoch: 03 Loss= 3.082746029 Accuracy= 0.903\n",
      "Train Epoch: 04 Loss= 2.605566502 Accuracy= 0.9098\n",
      "Train Epoch: 05 Loss= 2.232368231 Accuracy= 0.9214\n",
      "Train Epoch: 06 Loss= 1.987748027 Accuracy= 0.9254\n",
      "Train Epoch: 07 Loss= 1.812515259 Accuracy= 0.9314\n",
      "Train Epoch: 08 Loss= 1.646093369 Accuracy= 0.9328\n",
      "Train Epoch: 09 Loss= 1.512596965 Accuracy= 0.9384\n",
      "Train Epoch: 10 Loss= 1.468485594 Accuracy= 0.9386\n",
      "Train Epoch: 11 Loss= 1.454109788 Accuracy= 0.9416\n",
      "Train Epoch: 12 Loss= 1.374641418 Accuracy= 0.9412\n",
      "Train Epoch: 13 Loss= 1.291119695 Accuracy= 0.9426\n",
      "Train Epoch: 14 Loss= 1.291845798 Accuracy= 0.9438\n",
      "Train Epoch: 15 Loss= 1.265330672 Accuracy= 0.9454\n",
      "Train Finished takes: 27.28214693069458\n"
     ]
    }
   ],
   "source": [
    "for epoch in range(trainEpochs):\n",
    "    for i in range(totalBatchs):\n",
    "        batch_x,batch_y=mnist.train.next_batch(batchSize)\n",
    "        sess.run(optimizer,feed_dict={x:batch_x,y_label:batch_y})\n",
    "    loss,acc=sess.run([loss_function,accuracy],feed_dict={x:mnist.validation.images,\n",
    "                                                          y_label:mnist.validation.labels})\n",
    "    epoch_list.append(epoch)\n",
    "    loss_list.append(loss)\n",
    "    accuracy_list.append(acc)\n",
    "    print(\"Train Epoch:\",'%02d' % (epoch+1),\"Loss=\",\"{:.9f}\".format(loss),\"Accuracy=\",acc)\n",
    "duration=time()-startTime\n",
    "print(\"Train Finished takes:\",duration)\n",
    "    \n",
    "    \n",
    "    \n",
    "    "
   ]
  },
  {
   "cell_type": "markdown",
   "metadata": {},
   "source": [
    "# CNN卷積網路"
   ]
  },
  {
   "cell_type": "markdown",
   "metadata": {},
   "source": [
    "# 建立共用函數"
   ]
  },
  {
   "cell_type": "markdown",
   "metadata": {},
   "source": [
    "#### 定義weight函數，用於建立權重(weight)張量\n",
    "* 利用tf.truncated_normal(shape,stddev)隨機初始化權重\n",
    "* tf.trucated_normal() 產生常態分佈，標準差和平均可以自己決定"
   ]
  },
  {
   "cell_type": "code",
   "execution_count": 27,
   "metadata": {},
   "outputs": [],
   "source": [
    "def weight(shape):\n",
    "    return tf.Variable(tf.truncated_normal(shape,stddev=0.1),name='W')"
   ]
  },
  {
   "cell_type": "markdown",
   "metadata": {},
   "source": [
    "#### 定義bias函數，用於建立bias張量\n",
    "* 使用tf.constant()"
   ]
  },
  {
   "cell_type": "code",
   "execution_count": 28,
   "metadata": {},
   "outputs": [],
   "source": [
    "def bias(shape):\n",
    "    return tf.Variable(tf.constant(0.1,shape=shape),name='b')"
   ]
  },
  {
   "cell_type": "markdown",
   "metadata": {},
   "source": [
    "#### 定義conv2d函數，用於進行卷積運算\n",
    "* strides:格式是[1,stride,stride,1]，也就是濾鏡每次移動時，由左往右，由上而下各一步\n",
    "* padding:設定為'SAME'模式，此模式會在邊界之外補0再做運算，讓輸入和輸出影像是同一個大小"
   ]
  },
  {
   "cell_type": "code",
   "execution_count": 29,
   "metadata": {},
   "outputs": [],
   "source": [
    "def conv2d(x,W):\n",
    "    return tf.nn.conv2d(x,W,strides=[1,1,1,1],padding='SAME')"
   ]
  },
  {
   "cell_type": "markdown",
   "metadata": {},
   "source": [
    "#### 建立max_pool_2*2函數\n",
    "* ksize:格式為[1,height,width,1]"
   ]
  },
  {
   "cell_type": "code",
   "execution_count": 30,
   "metadata": {},
   "outputs": [],
   "source": [
    "def max_pool_2_2(x):\n",
    "    return tf.nn.max_pool(x,ksize=[1,2,2,1],strides=[1,2,2,1],padding='SAME')"
   ]
  },
  {
   "cell_type": "markdown",
   "metadata": {},
   "source": [
    "# 建立模型"
   ]
  },
  {
   "cell_type": "markdown",
   "metadata": {},
   "source": [
    "#### 輸入層\n",
    "* x原本是一維向量，因為後續要進行卷積與max pooling，必須轉換為四維張量\n",
    "* 第一個維度是-1：因為之後是由placeholder輸入的筆數不固定\n",
    "* 第2,3個維度是28*28:因為輸入的數字影像大小是28*28\n",
    "* 第四個維度是1:是單色所以設定為1，如果是彩色就要設定為3"
   ]
  },
  {
   "cell_type": "code",
   "execution_count": 31,
   "metadata": {},
   "outputs": [],
   "source": [
    "with tf.name_scope('Input_Layer'):\n",
    "    x=tf.placeholder(\"float\",shape=[None,784],name=\"x\")\n",
    "    x_image=tf.reshape(x,[-1,28,28,1])"
   ]
  },
  {
   "cell_type": "markdown",
   "metadata": {},
   "source": [
    "#### 建立卷積層1\n",
    "* 卷積層的運算會將單一影像，產生多個影像，很類似濾鏡的效果。這可以幫助提取輸入的不同特徵，例如邊緣，線條等等\n",
    "* conv2d:進行卷積運算，輸入參數：x_image(要處理的影像),W1(filter的權重)\n",
    "* 建立W1的權重：\n",
    "* 第1,2個維度是5,5:代表(filter weight)的大小5*5\n",
    "* 第三個維度是1:因為數字影像是單色所以設定為1，如果是彩色就要設定為3\n",
    "* 第四個維度是16:因為要產生16個影像\n",
    "* 最後以上卷積運算的結果，再由relu轉換"
   ]
  },
  {
   "cell_type": "code",
   "execution_count": 32,
   "metadata": {},
   "outputs": [],
   "source": [
    "with tf.name_scope('C1_Conv'):\n",
    "    W1=weight([5,5,1,16])\n",
    "    b1=bias([16])\n",
    "    Conv1=conv2d(x_image,W1)+b1\n",
    "    C1_Conv=tf.nn.relu(Conv1)"
   ]
  },
  {
   "cell_type": "markdown",
   "metadata": {},
   "source": [
    "#### 建立max pooling layer 1\n",
    "* max pooling層使用縮減取樣(downsampling)，會將影像從28*28縮減成14*14，不會改變影像數量(仍16)\n",
    "* 1.減少所需處理的資料點：減少後續運算所需的時間\n",
    "* 2.讓影像位置差異變小：例如手寫數字7，位置上下左右可能不同，但是位置的不同可能會影響辨識。減小影像大小，讓數字的位置差異變小\n",
    "* 3.參數的數量和計算量下降：對控制overfitting有幫助"
   ]
  },
  {
   "cell_type": "code",
   "execution_count": 34,
   "metadata": {},
   "outputs": [],
   "source": [
    "with tf.name_scope(\"C1_Pool\"):\n",
    "    C1_Pool=max_pool_2_2(C1_Conv)"
   ]
  },
  {
   "cell_type": "markdown",
   "metadata": {},
   "source": [
    "#### 建立卷積層2\n",
    "* 將原本16個的影像，轉換為36個影像\n",
    "* 建立W2的權重：\n",
    "* 第1,2個維度是5,5:代表(filter weight)的大小5*5\n",
    "* 第3個維度是16:因為卷積層1的影像數量是16\n",
    "* 第4個維度是36:因為要將原本16個影像，轉換為36個影像\n",
    "* 最後以上卷積運算的結果，再由relu轉換"
   ]
  },
  {
   "cell_type": "code",
   "execution_count": 36,
   "metadata": {},
   "outputs": [],
   "source": [
    "with tf.name_scope('C2_Conv'):\n",
    "    W2=weight([5,5,16,36])\n",
    "    b2=bias([36])\n",
    "    Conv2=conv2d(C1_Pool,W2)+b2\n",
    "    C2_Conv=tf.nn.relu(Conv2)"
   ]
  },
  {
   "cell_type": "markdown",
   "metadata": {},
   "source": [
    "#### 建立max pooling layer 2"
   ]
  },
  {
   "cell_type": "code",
   "execution_count": 37,
   "metadata": {},
   "outputs": [],
   "source": [
    "with tf.name_scope('C2_Pool'):\n",
    "    C2_Pool=max_pool_2_2(C2_Conv)"
   ]
  },
  {
   "cell_type": "markdown",
   "metadata": {},
   "source": [
    "#### 建立Fully connected layer\n",
    "* 此層將max pooling layer 2的36個7*7影像，轉換為1維的向量，長度是36x7x7=1764\n",
    "* [-1,1764]：第一個維度是-1，因為後續會傳入不限定筆數的訓練資料數字影像"
   ]
  },
  {
   "cell_type": "code",
   "execution_count": 39,
   "metadata": {},
   "outputs": [],
   "source": [
    "with tf.name_scope('D_Flat'):\n",
    "    D_Flat=tf.reshape(C2_Pool,[-1,1764])"
   ]
  },
  {
   "cell_type": "markdown",
   "metadata": {},
   "source": [
    "#### 建立隱藏層\n",
    "* 加入Dropout避免overfitting\n",
    "* tf.nn.dropout的功能是，每次訓練迭代時，會隨機地在神經網路中放棄一些神經元，以避免overfitting\n",
    "* D_Hidden：要執行dropout的神經網路層\n",
    "* keep_prob=0.8:設定要保留的神經元比率，0.8代表要保留80%的神經元，隨機去掉20%的神經元"
   ]
  },
  {
   "cell_type": "code",
   "execution_count": 40,
   "metadata": {},
   "outputs": [],
   "source": [
    "with tf.name_scope('D_Hidden_Layer'):\n",
    "    W3=weight([1764,128])\n",
    "    b3=bias([128])\n",
    "    D_Hidden=tf.nn.relu(tf.matmul(D_Flat,W3)+b3)\n",
    "    D_Hidden_Dropout=tf.nn.dropout(D_Hidden,keep_prob=0.8)"
   ]
  },
  {
   "cell_type": "markdown",
   "metadata": {},
   "source": [
    "#### 建立輸出層(output_layer)\n",
    "* 先使用tf.matmul()最後再使用tf.nn.softmax() 激活函數"
   ]
  },
  {
   "cell_type": "code",
   "execution_count": 41,
   "metadata": {},
   "outputs": [],
   "source": [
    "with tf.name_scope('Output_Layer'):\n",
    "    W4=weight([128,10])\n",
    "    b4=bias([10])\n",
    "    y_predict=tf.nn.softmax(tf.matmul(D_Hidden_Dropout,W4)+b4)\n",
    "    "
   ]
  },
  {
   "cell_type": "markdown",
   "metadata": {},
   "source": [
    "#### 定義訓練方式"
   ]
  },
  {
   "cell_type": "code",
   "execution_count": 42,
   "metadata": {},
   "outputs": [],
   "source": [
    "with tf.name_scope(\"optimizer\"):\n",
    "    y_label=tf.placeholder(\"float\",shape=[None,10],name=\"y_label\")\n",
    "    loss_function=tf.reduce_mean(tf.nn.softmax_cross_entropy_with_logits\n",
    "                                (logits=y_predict,labels=y_label))\n",
    "    optimizer=tf.train.AdamOptimizer(learning_rate=0.0001).minimize(loss_function)"
   ]
  },
  {
   "cell_type": "markdown",
   "metadata": {},
   "source": [
    "#### 定義評估模型的準確率方式"
   ]
  },
  {
   "cell_type": "code",
   "execution_count": 44,
   "metadata": {},
   "outputs": [],
   "source": [
    "with tf.name_scope(\"evaluate_model\"):\n",
    "    correct_prediction=tf.equal(tf.arg_max(y_predict,1),tf.arg_max(y_label,1))\n",
    "    accuracy=tf.reduce_mean(tf.cast(correct_prediction,\"float\"))"
   ]
  },
  {
   "cell_type": "markdown",
   "metadata": {},
   "source": [
    "#### 定義訓練參數"
   ]
  },
  {
   "cell_type": "code",
   "execution_count": 45,
   "metadata": {},
   "outputs": [],
   "source": [
    "trainEpochs=3\n",
    "batchSize=100\n",
    "totalBatchs=int(mnist.train.num_examples/batchSize)\n",
    "epoch_list=[]\n",
    "accuracy_list=[]\n",
    "loss_list=[]\n",
    "startTime=time()\n",
    "sess=tf.Session()\n",
    "sess.run(tf.global_variables_initializer())"
   ]
  },
  {
   "cell_type": "markdown",
   "metadata": {},
   "source": [
    "#### 進行訓練"
   ]
  },
  {
   "cell_type": "code",
   "execution_count": 49,
   "metadata": {},
   "outputs": [
    {
     "name": "stdout",
     "output_type": "stream",
     "text": [
      "Train Epoch: 01 Loss= 1.5171881 Accuracy= 0.9494\n",
      "Train Epoch: 02 Loss= 1.509616 Accuracy= 0.9556\n",
      "Train Epoch: 03 Loss= 1.5035113 Accuracy= 0.9622\n",
      "Train Finished takes: 681.2201976776123\n"
     ]
    }
   ],
   "source": [
    "for epoch in range(trainEpochs):\n",
    "    for i in range(totalBatchs):\n",
    "        batch_x,batch_y=mnist.train.next_batch(batchSize)\n",
    "        sess.run(optimizer,feed_dict={x:batch_x,y_label:batch_y})\n",
    "    loss,acc=sess.run([loss_function,accuracy],feed_dict={x:mnist.validation.images,\n",
    "                                                          y_label:mnist.validation.labels})\n",
    "    epoch_list.append(epoch)\n",
    "    loss_list.append(loss)\n",
    "    accuracy_list.append(acc)\n",
    "    print(\"Train Epoch:\",'%02d' %(epoch+1),\"Loss=\",loss,\"Accuracy=\",acc)\n",
    "duration=time()-startTime\n",
    "print(\"Train Finished takes:\",duration)"
   ]
  },
  {
   "cell_type": "code",
   "execution_count": null,
   "metadata": {},
   "outputs": [],
   "source": []
  }
 ],
 "metadata": {
  "kernelspec": {
   "display_name": "Python 3",
   "language": "python",
   "name": "python3"
  },
  "language_info": {
   "codemirror_mode": {
    "name": "ipython",
    "version": 3
   },
   "file_extension": ".py",
   "mimetype": "text/x-python",
   "name": "python",
   "nbconvert_exporter": "python",
   "pygments_lexer": "ipython3",
   "version": "3.6.8"
  }
 },
 "nbformat": 4,
 "nbformat_minor": 2
}
